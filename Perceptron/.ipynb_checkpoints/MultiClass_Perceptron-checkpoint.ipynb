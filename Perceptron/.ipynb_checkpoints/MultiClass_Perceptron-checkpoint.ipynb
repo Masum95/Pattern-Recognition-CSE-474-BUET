{
 "cells": [
  {
   "cell_type": "code",
   "execution_count": 1,
   "metadata": {},
   "outputs": [],
   "source": [
    "%matplotlib widget \n",
    "#for interactive 3d plot \n",
    "\n",
    "import pandas as pd\n",
    "import numpy as np\n",
    "import sklearn\n",
    "import matplotlib.pyplot as plt\n",
    "import seaborn as sns\n",
    "import pickle\n",
    "from sklearn.utils import shuffle\n",
    "from sklearn.model_selection import train_test_split\n",
    "from mpl_toolkits.mplot3d import Axes3D\n",
    "from sklearn import metrics\n",
    "\n",
    "# import ipyvolume as ipv\n",
    "# %matplotlib inline"
   ]
  },
  {
   "cell_type": "code",
   "execution_count": 2,
   "metadata": {},
   "outputs": [],
   "source": [
    "\n",
    "def drawPlane(ara, xlim = (-5,20), ylim= (-5,20)):\n",
    "    a = ara[0]\n",
    "    b = ara[1]\n",
    "    c = ara[2]\n",
    "    d = ara[3]\n",
    "    x = np.linspace(xlim[0],xlim[1])\n",
    "    y = np.linspace(ylim[0],ylim[1])\n",
    "#   eqn: ax + by + cz + d = 0\n",
    "    X,Y = np.meshgrid(x,y)\n",
    "    Z = ( a*X + b*Y + d) / -c\n",
    "\n",
    "    surf = ax.plot_surface(X, Y, Z)"
   ]
  },
  {
   "cell_type": "markdown",
   "metadata": {},
   "source": [
    "# Multi-Class Perceptron (Kesler)"
   ]
  },
  {
   "cell_type": "code",
   "execution_count": 3,
   "metadata": {},
   "outputs": [],
   "source": [
    "class Perceptron:\n",
    "    \n",
    "    def __init__(self,learning_rate):\n",
    "        self.eta = learning_rate\n",
    "\n",
    "    \n",
    "    def fit(self, x_train, y_train, numEpoch= 500):\n",
    "        print(len(y_train))\n",
    "\n",
    "        self.x_train = np.hstack( ( np.array(x_train, dtype=float), np.ones([len(y_train), 1], dtype = float) ))\n",
    "        self.y_train = np.array(y_train, dtype='O')\n",
    "        self.weight = [np.zeros(self.x_train.shape[1] ,dtype=float )] * (len(np.unique(self.y_train)) ) # 1 for bias\n",
    "        self.dataset = np.column_stack((self.x_train, self.y_train))\n",
    "        self.thresh = 0.05\n",
    "        self.classes = dict(zip(self.y_train, np.unique(self.y_train, return_inverse=True)[1]))\n",
    "        self.numEpoch = numEpoch\n",
    "        self.updateWeight()\n",
    "    \n",
    " \n",
    "    def getActivation(self, weight, x):\n",
    "        return np.dot(weight, x)\n",
    "    \n",
    "    def predict(self, x_test):\n",
    "        mxActivation, cls = -10000, 0\n",
    "        \n",
    "        if len(x_test) != len(self.weight[0]): # if called for testing set, have to handle it differently \n",
    "            x_test = x_test[:]\n",
    "            x_test.append(1.0)  #add 1 to make consistent with weight dimension \n",
    "            \n",
    "        for i in range(len(self.weight)):\n",
    "            weight = self.weight[i]\n",
    "            \n",
    "            activation = self.getActivation(weight, x_test)\n",
    "            if activation > mxActivation:\n",
    "                mxActivation, cls = activation, i + 1 \n",
    "        return cls \n",
    "\n",
    "    def updateWeight(self):\n",
    "        it = 0\n",
    "        bestCost, bestWeight = 10000, []\n",
    "        while it < self.numEpoch:\n",
    "    \n",
    "            for i in range(len(self.y_train)):\n",
    "                x = self.x_train[i,:]\n",
    "\n",
    "                actual_cls = self.classes[self.y_train[i]]\n",
    "                actual_cls_activation = self.getActivation(self.weight[actual_cls], x ) \n",
    "                \n",
    "                for i in range(len(self.weight)):\n",
    "                    if i == actual_cls:\n",
    "                        continue\n",
    "                    if self.getActivation(self.weight[i],x) >= actual_cls_activation:\n",
    "                        self.weight[i] = self.weight[i] -  self.eta *  x\n",
    "                        self.weight[actual_cls] = self.weight[actual_cls] + self.eta * x\n",
    "                cost = self.costFunc(self.x_train, self.y_train)\n",
    "                if cost <= bestCost:\n",
    "                    bestCost, bestWeight = cost, self.weight.copy()\n",
    "            print('iteration ', it , ' ->',self.costFunc(self.x_train, self.y_train))\n",
    "\n",
    "            if self.costFunc(self.x_train, self.y_train) <= self.thresh:\n",
    "                print(self.costFunc(self.x_train, self.y_train))\n",
    "                break\n",
    "\n",
    "\n",
    "            it += 1\n",
    "        self.weight = bestWeight\n",
    "        print(self.weight)\n",
    "        drawPlane(self.weight[0])\n",
    "        drawPlane(self.weight[1])\n",
    "#         drawPlane(self.weight[2])\n",
    "    \n",
    "    def costFunc(self, x_list, y_actual):\n",
    "        cost = 0\n",
    "        for i in range(len(x_list)):\n",
    "            cost = cost + int( self.predict(x_list[i]) != y_actual[i])\n",
    "        return cost"
   ]
  },
  {
   "cell_type": "markdown",
   "metadata": {},
   "source": [
    "# 3d plotting"
   ]
  },
  {
   "cell_type": "code",
   "execution_count": 4,
   "metadata": {},
   "outputs": [
    {
     "data": {
      "application/vnd.jupyter.widget-view+json": {
       "model_id": "3302d1ff88ac4716a4fa33427edc31c6",
       "version_major": 2,
       "version_minor": 0
      },
      "text/plain": [
       "Canvas(toolbar=Toolbar(toolitems=[('Home', 'Reset original view', 'home', 'home'), ('Back', 'Back to previous …"
      ]
     },
     "metadata": {},
     "output_type": "display_data"
    },
    {
     "data": {
      "text/plain": [
       "Text(0.5, 0, 'Z Label')"
      ]
     },
     "execution_count": 4,
     "metadata": {},
     "output_type": "execute_result"
    }
   ],
   "source": [
    "fig = plt.figure(figsize=(6,6))\n",
    "ax = fig.add_subplot(111, projection='3d')\n",
    "\n",
    "ax.grid()\n",
    "ax.set_xlabel('X Label')\n",
    "ax.set_ylabel('Y Label')\n",
    "ax.set_zlabel('Z Label')\n"
   ]
  },
  {
   "cell_type": "code",
   "execution_count": 5,
   "metadata": {},
   "outputs": [
    {
     "name": "stdout",
     "output_type": "stream",
     "text": [
      "300\n",
      "iteration  0  -> 100\n",
      "iteration  1  -> 100\n",
      "iteration  2  -> 21\n",
      "iteration  3  -> 100\n",
      "iteration  4  -> 65\n",
      "iteration  5  -> 0\n",
      "0\n",
      "[array([ 1.0327,  9.7551, -1.9892, -3.5   ]), array([ 10.53225, -30.0144 ,   7.00205,  -1.5    ]), array([-11.56495,  20.2593 ,  -5.01285,   5.     ])]\n"
     ]
    },
    {
     "data": {
      "text/plain": [
       "<mpl_toolkits.mplot3d.art3d.Path3DCollection at 0x7f0204382550>"
      ]
     },
     "execution_count": 5,
     "metadata": {},
     "output_type": "execute_result"
    }
   ],
   "source": [
    "missing_values = [\"n/a\", \"na\", \"--\",\"NA\",\"N/A\",\"?\"]\n",
    "df = pd.read_csv('multi-class.csv', na_values = missing_values)\n",
    "\n",
    "x_train, y_train = np.array(df.iloc[:,:-1].values.tolist()), np.array(df.iloc[:,-1].values.tolist() )\n",
    "p = Perceptron(0.5)\n",
    "p.fit(x_train, y_train)\n",
    "\n",
    "ax.scatter(x_train[:,0], x_train[:,1], x_train[:,2], c='r')\n",
    "\n",
    "\n",
    "\n",
    "# plt.show()\n"
   ]
  },
  {
   "cell_type": "code",
   "execution_count": 15,
   "metadata": {
    "scrolled": true
   },
   "outputs": [
    {
     "name": "stdout",
     "output_type": "stream",
     "text": [
      "Accurcy on test set\n",
      "98.33333333333333\n"
     ]
    }
   ],
   "source": [
    "df = pd.read_csv('multi-test.csv', na_values = missing_values , header=None)\n",
    "y_test = df.iloc[:,-1].tolist()\n",
    "y_pred = []\n",
    "for i in range(len(df.iloc[:,:-1])):\n",
    "    x = df.iloc[i,:-1].tolist()\n",
    "    y_pred.append(p.predict(x ) )\n",
    "\n",
    "    \n",
    "print('Accurcy on test set')\n",
    "print(metrics.accuracy_score(y_test,y_pred) * 100)"
   ]
  }
 ],
 "metadata": {
  "kernelspec": {
   "display_name": "Python 3",
   "language": "python",
   "name": "python3"
  },
  "language_info": {
   "codemirror_mode": {
    "name": "ipython",
    "version": 3
   },
   "file_extension": ".py",
   "mimetype": "text/x-python",
   "name": "python",
   "nbconvert_exporter": "python",
   "pygments_lexer": "ipython3",
   "version": "3.7.6"
  }
 },
 "nbformat": 4,
 "nbformat_minor": 4
}
