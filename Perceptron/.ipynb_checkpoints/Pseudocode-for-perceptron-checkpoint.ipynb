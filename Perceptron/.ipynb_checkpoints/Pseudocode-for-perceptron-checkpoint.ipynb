{
 "cells": [
  {
   "cell_type": "markdown",
   "metadata": {},
   "source": [
    "# Perceptron Guideline"
   ]
  },
  {
   "cell_type": "code",
   "execution_count": 1,
   "metadata": {},
   "outputs": [],
   "source": [
    "# read inputs. First 3 algorithms are basically used to classify between 2 classes."
   ]
  },
  {
   "cell_type": "markdown",
   "metadata": {},
   "source": [
    "### Simple Perceptron Algorithm"
   ]
  },
  {
   "cell_type": "markdown",
   "metadata": {},
   "source": [
    "Suppose we have only two classes. class 1 and class 2. Now using training samples we have to train the model and use this model to test accuracy of test samples.\n",
    "\n",
    "suppose each feature vector has n features. (For our training and test dataset the number is two)\n",
    "\n",
    "We know discriminent function is f(x) = w<sup>T</sup>x + w<sub>0</sub> \n",
    "\n",
    "So f(x) = w.x + w<sub>0</sub> where w and x both are column vectors\n",
    "\n",
    "Suppose number of features = 2.\n",
    "Now we can rewrite this equation f(x) like this,\n",
    "\n",
    "w' = [ w<sub>1</sub> w<sub>2</sub> w<sub>0</sub> ]<sup>T</sup> \n",
    "\n",
    "x' = [ x<sub>1</sub> x<sub>2</sub> 1 ]<sup>T</sup>\n",
    "\n",
    "now f(x) becomes ,\n",
    "\n",
    "f(x) = w'<sup>T</sup>.x' ( Here . represents 'dot' product ) \n",
    "\n",
    "\n",
    "Pseudocode:\n",
    "    \n",
    " `1. Initialize w' with random number length of (number of features + 1)`\n",
    "\n",
    " `2. let l = learning rate set to a fixed value.`\n",
    "\n",
    " `3. set t = 0`\n",
    "\n",
    " `4. while misclassified_set is not empty:`\n",
    "        `misclassified <- {}\n",
    "        for k <- len(training_data):\n",
    "            vector_class = get_class(training_data[k])\n",
    "            discreminent = dot_product(w', training_data[k])\n",
    "            if vector_class is misclassified:\n",
    "                misclassified_set <- training_data[k]\n",
    "        cost = cost_function(misclassified_set)\n",
    "        w' = w - l*cost`\n",
    "        \n",
    "   Here cost_function = summation of all misclassified vectors with their respective $\\delta x $ value\n",
    "   \n",
    "   \n",
    "   $\\delta x $ = -1 when vector is in group 1 but perceptron classified it to class 2\n",
    "   \n",
    "   $\\delta x $ = +1 when vector is in group 2 but perceptron classified it to class 1\n",
    "   \n",
    "   cost_function = $\\sum_{i=1}^{N} \\delta x *x' $ here N = size of misclassified set\n",
    "   \n",
    "   "
   ]
  },
  {
   "cell_type": "code",
   "execution_count": 3,
   "metadata": {},
   "outputs": [],
   "source": [
    "# write your code here"
   ]
  },
  {
   "cell_type": "markdown",
   "metadata": {},
   "source": [
    "#### Output would given test sample is : 96.0 Accurate"
   ]
  },
  {
   "cell_type": "markdown",
   "metadata": {},
   "source": [
    "# Reward and Punishment"
   ]
  },
  {
   "cell_type": "markdown",
   "metadata": {},
   "source": [
    "Pseudocode:\n",
    "    \n",
    " `1. Initialize w' with random number length of (number of features + 1)`\n",
    "\n",
    " `2. let l = learning rate set to a fixed value.`\n",
    "\n",
    " `3. set t = 0`\n",
    "\n",
    " `4. while misclassified_set is not empty:`\n",
    "        `misclassified <- {}\n",
    "        for k <- len(training_data):\n",
    "            vector_class = get_class(training_data[k])\n",
    "            discreminent = dot_product(w', training_data[k])\n",
    "            if vector_class is misclassified to class 1:\n",
    "                w' = w - l*x'\n",
    "            if vector_class is misclassified to class 2:\n",
    "                w' = w + l*x' `\n",
    "           \n",
    "        "
   ]
  },
  {
   "cell_type": "markdown",
   "metadata": {},
   "source": [
    "# Pocket Algorithm"
   ]
  },
  {
   "cell_type": "markdown",
   "metadata": {},
   "source": [
    "### Pseudocode\n",
    "\n",
    "1. Initialize Wp (pocket vector) with zero or any random number\n",
    "2. Assing Wo (Weight at time = 0)  to Wp\n",
    "3. Run basic perceptron learning algorithm\n",
    "4. If Wt is better classifier (less amount of misclassification than previous) store Wt to Wp\n",
    "5. Return Wp\n",
    "\n",
    "Basic Learning Algorithm's If else Case:\n",
    "\n",
    "       if vector_class is misclassified to class 1:\n",
    "           w' = w - x'\n",
    "       if vector_class is misclassified to class 2:\n",
    "           w' = w + x' \n",
    "           \n",
    "So, NO learning rate is required in this case\n"
   ]
  },
  {
   "cell_type": "code",
   "execution_count": null,
   "metadata": {},
   "outputs": [],
   "source": []
  }
 ],
 "metadata": {
  "kernelspec": {
   "display_name": "Python 3",
   "language": "python",
   "name": "python3"
  },
  "language_info": {
   "codemirror_mode": {
    "name": "ipython",
    "version": 3
   },
   "file_extension": ".py",
   "mimetype": "text/x-python",
   "name": "python",
   "nbconvert_exporter": "python",
   "pygments_lexer": "ipython3",
   "version": "3.7.6"
  }
 },
 "nbformat": 4,
 "nbformat_minor": 2
}
