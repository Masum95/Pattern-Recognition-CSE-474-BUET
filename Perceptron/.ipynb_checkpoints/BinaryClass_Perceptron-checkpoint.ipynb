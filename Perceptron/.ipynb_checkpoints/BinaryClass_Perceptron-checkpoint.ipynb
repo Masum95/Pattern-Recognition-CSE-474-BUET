{
 "cells": [
  {
   "cell_type": "code",
   "execution_count": 1,
   "metadata": {},
   "outputs": [],
   "source": [
    "#for interactive 3d plot \n",
    "\n",
    "import pandas as pd\n",
    "import numpy as np\n",
    "import sklearn\n",
    "import matplotlib.pyplot as plt\n",
    "import seaborn as sns\n",
    "import pickle\n",
    "from sklearn.utils import shuffle\n",
    "from sklearn.model_selection import train_test_split\n",
    "from mpl_toolkits.mplot3d import Axes3D\n",
    "from sklearn import metrics\n",
    "\n",
    "# import ipyvolume as ipv\n",
    "%matplotlib inline\n"
   ]
  },
  {
   "cell_type": "markdown",
   "metadata": {},
   "source": [
    " # line, plane draw"
   ]
  },
  {
   "cell_type": "code",
   "execution_count": 2,
   "metadata": {},
   "outputs": [],
   "source": [
    "\n",
    "def drawLine(ara , lim = (-10,10)):\n",
    "    a = ara[0]\n",
    "    b = ara[1]\n",
    "    c = ara[2]\n",
    "    x = np.linspace(lim[0], lim[1])\n",
    "    plt.plot(x,-a/b*x-c/b)\n",
    "\n",
    "\n",
    "\n"
   ]
  },
  {
   "cell_type": "markdown",
   "metadata": {},
   "source": [
    "# Single layer Perceptron for Binary Classification"
   ]
  },
  {
   "cell_type": "code",
   "execution_count": 3,
   "metadata": {},
   "outputs": [],
   "source": [
    "class Perceptron:\n",
    "    \n",
    "    def __init__(self,learning_rate):\n",
    "        self.eta = learning_rate\n",
    "\n",
    "    \n",
    "    def fit(self, x_train, y_train, numEpoch=500):\n",
    "        # x_train = numSamples X numFeatures\n",
    "        self.x_train = np.hstack( ( np.array(x_train, dtype=float), np.ones([len(y_train), 1], dtype = float) ))\n",
    "        # y_train = numSamples X 1 \n",
    "\n",
    "        self.y_train = np.array(y_train, dtype='O')\n",
    "        self.classes = np.unique(self.y_train)\n",
    "        # weight = numFeatures X 1 \n",
    "        self.weight = np.zeros( ( self.x_train.shape[1], 1)  ,dtype=float ) # 1 for bias, initialize with all 0s \n",
    "        self.thresh = 0.05\n",
    "        self.numEpoch = numEpoch\n",
    "        self.updateWeight()\n",
    "    \n",
    "      \n",
    "    def __getDelta(self, predList, actualList):\n",
    "        dList = [0] * len(predList)\n",
    "        for i in range(len(predList)):\n",
    "            d = 0   \n",
    "            predicted = predList[i]\n",
    "            if predicted == self.classes[0] and actualList[i] == self.classes[1]:\n",
    "                d = -1\n",
    "            elif predicted == self.classes[1] and actualList[i] == self.classes[0]:\n",
    "                d = 1\n",
    "            dList[i] = d\n",
    "        return np.array(dList)\n",
    "    \n",
    "    def __getActivation(self, x_list):\n",
    "        x_list = np.array(x_list)\n",
    "        if x_list.shape[1] != len(self.weight) : # if called for testing set, have to handle it differently \n",
    "            x_list = np.hstack( ( x_list, np.ones([len(x_list), 1], dtype = float) ) )\n",
    "            \n",
    "        activation = np.dot(x_list, self.weight ) \n",
    "        return activation\n",
    "    \n",
    "    def predict(self, x_test):\n",
    "        activation = self.__getActivation( x_test)\n",
    "        return [self.classes[1] if act >= 0.0 else self.classes[0] for act in activation] \n",
    "    \n",
    "    def updateWeight(self):\n",
    "        it = 0\n",
    "        bestCost, bestWeight = 1000000, []\n",
    "\n",
    "        while it < self.numEpoch:\n",
    "        \n",
    "            predictedList = self.predict(self.x_train)\n",
    "            deltaList = self.__getDelta(predictedList, self.y_train).reshape((1, len(self.x_train)))\n",
    "            self.weight = self.weight - np.sum( (self.eta * deltaList) * self.x_train.T, axis=1, keepdims=True)\n",
    "            \n",
    "            cost = self.costFunc(self.x_train, self.y_train) \n",
    "            print('iteration ', it, 'cost = ', cost)\n",
    "\n",
    "            if self.costFunc(self.x_train, self.y_train) <= self.thresh:\n",
    "                break\n",
    "            it +=1 \n",
    "        drawLine(self.weight)\n",
    "\n",
    "    def costFunc(self, x_list, y_actual):\n",
    "        cost = 0\n",
    "        activation = self.__getActivation(x_list)  \n",
    "        predictedList = [self.classes[1] if act >= 0.0 else self.classes[0] for act in activation] \n",
    "        \n",
    "        deltaList = self.__getDelta(predictedList, y_actual).reshape(activation.shape)\n",
    "\n",
    "        return np.multiply(activation, deltaList).sum()\n"
   ]
  },
  {
   "cell_type": "code",
   "execution_count": 17,
   "metadata": {},
   "outputs": [],
   "source": [
    "class PerceptronRewardPunish(Perceptron):\n",
    "    \n",
    "    def updateWeight(self):\n",
    "        it = 0\n",
    "        bestCost, bestWeight = 1000000, []\n",
    "\n",
    "        while it < self.numEpoch:\n",
    "            \n",
    "            for i in range(len(self.y_train)):\n",
    "    \n",
    "                x = self.x_train[i,:].reshape((1,self.x_train.shape[1])) \n",
    "                print(x.shape, '   ', self.weight.shape)\n",
    "                activation = np.dot(x, self.weight).squeeze()\n",
    "                print(activation)\n",
    "                print(activation.shape)\n",
    "#                 activation = np.dot(x, self.weight)\n",
    "                predicted = self.classes[1] if activation >= 0.0 else self.classes[0]\n",
    "        \n",
    "                d = 0   \n",
    "                if predicted == self.classes[0] and self.y_train[i] == self.classes[1]:\n",
    "                    d = -1\n",
    "                elif predicted == self.classes[1] and self.y_train[i] == self.classes[0]:\n",
    "                    d = 1\n",
    "                self.weight = self.weight - self.eta * d * x\n",
    "\n",
    "            print('iteration ', it , ' ->',self.costFunc(self.x_train, self.y_train))\n",
    "            plt.pause(0.01)\n",
    "            it += 1\n",
    "            if self.costFunc(self.x_train, self.y_train) <= self.thresh:\n",
    "                break\n",
    "        self.weight = bestWeight\n",
    "        drawLine(self.weight)\n",
    "        "
   ]
  },
  {
   "cell_type": "code",
   "execution_count": 18,
   "metadata": {},
   "outputs": [],
   "source": [
    "class PerceptronPocket(Perceptron):\n",
    "\n",
    "    def updateWeight(self):\n",
    "        it = 0\n",
    "        bestCost, bestWeight = 1000000, []\n",
    "\n",
    "        while it < self.numEpoch:\n",
    "\n",
    "            for i in range(len(self.y_train)):\n",
    "\n",
    "                x = self.x_train[i,:]\n",
    "                print(x.shape, '   ', self.weight.shape)\n",
    "                activation = np.multiply(self.weight, x.T)\n",
    "                print(activation.shape)\n",
    "                predicted = self.classes[1] if activation >= 0.0 else self.classes[0]\n",
    "\n",
    "                d = 0   \n",
    "                if predicted == self.classes[0] and self.y_train[i] == self.classes[1]:\n",
    "                    d = -1\n",
    "                elif predicted == self.classes[1] and self.y_train[i] == self.classes[0]:\n",
    "                    d = 1\n",
    "                self.weight = self.weight - self.eta * d * x\n",
    "                cost = self.costFunc(self.x_train, self.y_train)\n",
    "\n",
    "                if cost <= bestCost:\n",
    "                    bestCost, bestWeight = cost, self.weight.copy()\n",
    "\n",
    "            print('iteration ', it , ' ->',self.costFunc(self.x_train, self.y_train))\n",
    "            plt.pause(0.01)\n",
    "            it += 1\n",
    "            if self.costFunc(self.x_train, self.y_train) <= self.thresh:\n",
    "                break\n",
    "        self.weight = bestWeight\n",
    "        drawLine(self.weight)\n"
   ]
  },
  {
   "cell_type": "markdown",
   "metadata": {},
   "source": [
    "## Data Preprocessing"
   ]
  },
  {
   "cell_type": "code",
   "execution_count": 6,
   "metadata": {},
   "outputs": [],
   "source": [
    "\n",
    "missing_values = [\"n/a\", \"na\", \"--\",\"NA\",\"N/A\",\"?\"]\n",
    "df = pd.read_csv('Train.txt', na_values = missing_values, delimiter=r'\\s+', header=None)\n",
    "numFeature, numClass, datasetLen = df.iloc[0]\n",
    "df = df.iloc[1:,]\n",
    "\n",
    "x_train, y_train = np.array(df.iloc[:,:-1].values.tolist()), np.array(df.iloc[:,-1].values.tolist() )"
   ]
  },
  {
   "cell_type": "markdown",
   "metadata": {},
   "source": [
    "## Train Basic Percpetron Model"
   ]
  },
  {
   "cell_type": "code",
   "execution_count": 19,
   "metadata": {
    "scrolled": true
   },
   "outputs": [
    {
     "name": "stdout",
     "output_type": "stream",
     "text": [
      "iteration  0 cost =  71955.28398338999\n",
      "iteration  1 cost =  45073.36172862\n",
      "iteration  2 cost =  18191.439473849994\n",
      "iteration  3 cost =  11654.997653960043\n",
      "iteration  4 cost =  63264.80120246999\n",
      "iteration  5 cost =  36382.87894769999\n",
      "iteration  6 cost =  9500.956692929984\n",
      "iteration  7 cost =  23309.99530792009\n",
      "iteration  8 cost =  54574.31842154998\n",
      "iteration  9 cost =  27692.39616677998\n",
      "iteration  10 cost =  2441.5796046499845\n",
      "iteration  11 cost =  948.8055580450265\n",
      "iteration  12 cost =  8249.668765474978\n",
      "iteration  13 cost =  11757.112882235102\n",
      "iteration  14 cost =  53784.60403238498\n",
      "iteration  15 cost =  26902.68177761498\n",
      "iteration  16 cost =  2881.9154853199852\n",
      "iteration  17 cost =  211.3755169849968\n",
      "iteration  18 cost =  123.46008104999788\n",
      "iteration  19 cost =  109.89640003999983\n",
      "iteration  20 cost =  102.43807513999991\n",
      "iteration  21 cost =  108.22538184999797\n",
      "iteration  22 cost =  108.3130630599997\n",
      "iteration  23 cost =  100.85473816000012\n",
      "iteration  24 cost =  93.39641325999986\n",
      "iteration  25 cost =  106.32399546999807\n",
      "iteration  26 cost =  99.27140118000005\n",
      "iteration  27 cost =  91.81307627999985\n",
      "iteration  28 cost =  91.08929626999827\n",
      "iteration  29 cost =  103.31220329500206\n",
      "iteration  30 cost =  117.21971801999814\n",
      "iteration  31 cost =  83.15776710000011\n",
      "iteration  32 cost =  88.65170599999823\n",
      "iteration  33 cost =  89.03408109000208\n",
      "iteration  34 cost =  114.78212774999821\n",
      "iteration  35 cost =  74.50245791999998\n",
      "iteration  36 cost =  86.21411572999824\n",
      "iteration  37 cost =  80.37744584000012\n",
      "iteration  38 cost =  72.91912093999991\n",
      "iteration  39 cost =  70.97941652999833\n",
      "iteration  40 cost =  87.06048563500201\n",
      "iteration  41 cost =  97.10983827999826\n",
      "iteration  42 cost =  64.26381176000024\n",
      "iteration  43 cost =  68.54182625999846\n",
      "iteration  44 cost =  72.78236343000208\n",
      "iteration  45 cost =  94.67224800999833\n",
      "iteration  46 cost =  55.60850258000016\n",
      "iteration  47 cost =  66.1042359899983\n",
      "iteration  48 cost =  61.48349050000019\n",
      "iteration  49 cost =  54.02516560000032\n",
      "iteration  50 cost =  50.869536789998506\n",
      "iteration  51 cost =  72.8474896150027\n",
      "iteration  52 cost =  96.49409098999843\n",
      "iteration  53 cost =  54.592766149998454\n",
      "iteration  54 cost =  53.43248744500289\n",
      "iteration  55 cost =  100.21732034999854\n",
      "iteration  56 cost =  58.3159955099984\n",
      "iteration  57 cost =  45.29803950000013\n",
      "iteration  58 cost =  37.83971460000026\n",
      "iteration  59 cost =  43.08129630999855\n",
      "iteration  60 cost =  53.60799901500258\n",
      "iteration  61 cost =  88.70585050999853\n",
      "iteration  62 cost =  46.8045256699985\n",
      "iteration  63 cost =  41.110777685000926\n",
      "iteration  64 cost =  37.73064609999858\n",
      "iteration  65 cost =  47.22040285000281\n",
      "iteration  66 cost =  83.3552002999985\n",
      "iteration  67 cost =  41.45387545999847\n",
      "iteration  68 cost =  36.355344115000946\n",
      "iteration  69 cost =  32.37999588999861\n",
      "iteration  70 cost =  40.83280668500282\n",
      "iteration  71 cost =  78.00455008999853\n",
      "iteration  72 cost =  36.1032252499985\n",
      "iteration  73 cost =  31.599910545001137\n",
      "iteration  74 cost =  27.02934567999864\n",
      "iteration  75 cost =  35.9962562200019\n",
      "iteration  76 cost =  40.36265849999859\n",
      "iteration  77 cost =  22.125661840000987\n",
      "iteration  78 cost =  31.288778929998614\n",
      "iteration  79 cost =  26.21381076500097\n",
      "iteration  80 cost =  22.21489935999864\n",
      "iteration  81 cost =  32.89420802000177\n",
      "iteration  82 cost =  35.5482121799987\n",
      "iteration  83 cost =  16.73956206000088\n",
      "iteration  84 cost =  26.474332609998612\n",
      "iteration  85 cost =  20.94736506000163\n",
      "iteration  86 cost =  39.80764542999873\n",
      "iteration  87 cost =  7.265313355001297\n",
      "iteration  88 cost =  30.73376585999864\n",
      "iteration  89 cost =  11.353462280001281\n",
      "iteration  90 cost =  21.659886289998724\n",
      "iteration  91 cost =  17.84531686000173\n",
      "iteration  92 cost =  34.99319910999873\n",
      "iteration  93 cost =  4.8255344349993265\n",
      "iteration  94 cost =  26.690111620001744\n",
      "iteration  95 cost =  25.919319539998753\n",
      "iteration  96 cost =  5.967362500001116\n",
      "iteration  97 cost =  17.719435154999303\n",
      "iteration  98 cost =  5.733549229999312\n",
      "iteration  99 cost =  18.781495960001735\n",
      "iteration  100 cost =  27.265692849998572\n",
      "iteration  101 cost =  0.9769033949992831\n",
      "iteration  102 cost =  27.626290720001748\n",
      "iteration  103 cost =  18.627449949999345\n",
      "iteration  104 cost =  6.641564024999241\n",
      "iteration  105 cost =  10.872880300001839\n",
      "iteration  106 cost =  28.612066159998562\n",
      "iteration  107 cost =  1.8849181899992686\n",
      "iteration  108 cost =  19.717675060001852\n",
      "iteration  109 cost =  19.53818658999859\n",
      "iteration  110 cost =  0.0\n"
     ]
    },
    {
     "data": {
      "image/png": "[encoded data removed]",
      "text/plain": [
       "<Figure size 432x288 with 1 Axes>"
      ]
     },
     "metadata": {
      "needs_background": "light"
     },
     "output_type": "display_data"
    }
   ],
   "source": [
    "\n",
    "\n",
    "perceptron = Perceptron(0.5)\n",
    "perceptron.fit(x_train, y_train)\n",
    "\n",
    "sns.scatterplot(x_train[:,0], x_train[:,1])\n",
    "\n",
    "plt.grid()\n",
    "\n",
    "plt.show()\n",
    "\n"
   ]
  },
  {
   "cell_type": "markdown",
   "metadata": {},
   "source": [
    "## Train Reward & Punishment Percpetron Model"
   ]
  },
  {
   "cell_type": "code",
   "execution_count": 20,
   "metadata": {},
   "outputs": [
    {
     "name": "stdout",
     "output_type": "stream",
     "text": [
      "(1, 3)     (3, 1)\n",
      "()\n",
      "(1, 3)     (3, 3)\n",
      "(3,)\n"
     ]
    },
    {
     "ename": "ValueError",
     "evalue": "The truth value of an array with more than one element is ambiguous. Use a.any() or a.all()",
     "output_type": "error",
     "traceback": [
      "\u001b[0;31m---------------------------------------------------------------------------\u001b[0m",
      "\u001b[0;31mValueError\u001b[0m                                Traceback (most recent call last)",
      "\u001b[0;32m<ipython-input-20-146e327054ec>\u001b[0m in \u001b[0;36m<module>\u001b[0;34m\u001b[0m\n\u001b[1;32m      1\u001b[0m \u001b[0mperceptronRP\u001b[0m \u001b[0;34m=\u001b[0m \u001b[0mPerceptronRewardPunish\u001b[0m\u001b[0;34m(\u001b[0m\u001b[0;36m0.5\u001b[0m\u001b[0;34m)\u001b[0m\u001b[0;34m\u001b[0m\u001b[0;34m\u001b[0m\u001b[0m\n\u001b[0;32m----> 2\u001b[0;31m \u001b[0mperceptronRP\u001b[0m\u001b[0;34m.\u001b[0m\u001b[0mfit\u001b[0m\u001b[0;34m(\u001b[0m\u001b[0mx_train\u001b[0m\u001b[0;34m,\u001b[0m \u001b[0my_train\u001b[0m\u001b[0;34m)\u001b[0m\u001b[0;34m\u001b[0m\u001b[0;34m\u001b[0m\u001b[0m\n\u001b[0m\u001b[1;32m      3\u001b[0m \u001b[0;34m\u001b[0m\u001b[0m\n\u001b[1;32m      4\u001b[0m \u001b[0msns\u001b[0m\u001b[0;34m.\u001b[0m\u001b[0mscatterplot\u001b[0m\u001b[0;34m(\u001b[0m\u001b[0mx_train\u001b[0m\u001b[0;34m[\u001b[0m\u001b[0;34m:\u001b[0m\u001b[0;34m,\u001b[0m\u001b[0;36m0\u001b[0m\u001b[0;34m]\u001b[0m\u001b[0;34m,\u001b[0m \u001b[0mx_train\u001b[0m\u001b[0;34m[\u001b[0m\u001b[0;34m:\u001b[0m\u001b[0;34m,\u001b[0m\u001b[0;36m1\u001b[0m\u001b[0;34m]\u001b[0m\u001b[0;34m)\u001b[0m\u001b[0;34m\u001b[0m\u001b[0;34m\u001b[0m\u001b[0m\n\u001b[1;32m      5\u001b[0m \u001b[0;34m\u001b[0m\u001b[0m\n",
      "\u001b[0;32m<ipython-input-3-dee8c9df4475>\u001b[0m in \u001b[0;36mfit\u001b[0;34m(self, x_train, y_train, numEpoch)\u001b[0m\n\u001b[1;32m     16\u001b[0m         \u001b[0mself\u001b[0m\u001b[0;34m.\u001b[0m\u001b[0mthresh\u001b[0m \u001b[0;34m=\u001b[0m \u001b[0;36m0.05\u001b[0m\u001b[0;34m\u001b[0m\u001b[0;34m\u001b[0m\u001b[0m\n\u001b[1;32m     17\u001b[0m         \u001b[0mself\u001b[0m\u001b[0;34m.\u001b[0m\u001b[0mnumEpoch\u001b[0m \u001b[0;34m=\u001b[0m \u001b[0mnumEpoch\u001b[0m\u001b[0;34m\u001b[0m\u001b[0;34m\u001b[0m\u001b[0m\n\u001b[0;32m---> 18\u001b[0;31m         \u001b[0mself\u001b[0m\u001b[0;34m.\u001b[0m\u001b[0mupdateWeight\u001b[0m\u001b[0;34m(\u001b[0m\u001b[0;34m)\u001b[0m\u001b[0;34m\u001b[0m\u001b[0;34m\u001b[0m\u001b[0m\n\u001b[0m\u001b[1;32m     19\u001b[0m \u001b[0;34m\u001b[0m\u001b[0m\n\u001b[1;32m     20\u001b[0m \u001b[0;34m\u001b[0m\u001b[0m\n",
      "\u001b[0;32m<ipython-input-17-c784f107d192>\u001b[0m in \u001b[0;36mupdateWeight\u001b[0;34m(self)\u001b[0m\n\u001b[1;32m     14\u001b[0m                 \u001b[0mprint\u001b[0m\u001b[0;34m(\u001b[0m\u001b[0mactivation\u001b[0m\u001b[0;34m.\u001b[0m\u001b[0mshape\u001b[0m\u001b[0;34m)\u001b[0m\u001b[0;34m\u001b[0m\u001b[0;34m\u001b[0m\u001b[0m\n\u001b[1;32m     15\u001b[0m \u001b[0;31m#                 activation = np.dot(x, self.weight)\u001b[0m\u001b[0;34m\u001b[0m\u001b[0;34m\u001b[0m\u001b[0;34m\u001b[0m\u001b[0m\n\u001b[0;32m---> 16\u001b[0;31m                 \u001b[0mpredicted\u001b[0m \u001b[0;34m=\u001b[0m \u001b[0mself\u001b[0m\u001b[0;34m.\u001b[0m\u001b[0mclasses\u001b[0m\u001b[0;34m[\u001b[0m\u001b[0;36m1\u001b[0m\u001b[0;34m]\u001b[0m \u001b[0;32mif\u001b[0m \u001b[0mactivation\u001b[0m \u001b[0;34m>=\u001b[0m \u001b[0;36m0.0\u001b[0m \u001b[0;32melse\u001b[0m \u001b[0mself\u001b[0m\u001b[0;34m.\u001b[0m\u001b[0mclasses\u001b[0m\u001b[0;34m[\u001b[0m\u001b[0;36m0\u001b[0m\u001b[0;34m]\u001b[0m\u001b[0;34m\u001b[0m\u001b[0;34m\u001b[0m\u001b[0m\n\u001b[0m\u001b[1;32m     17\u001b[0m \u001b[0;34m\u001b[0m\u001b[0m\n\u001b[1;32m     18\u001b[0m                 \u001b[0md\u001b[0m \u001b[0;34m=\u001b[0m \u001b[0;36m0\u001b[0m\u001b[0;34m\u001b[0m\u001b[0;34m\u001b[0m\u001b[0m\n",
      "\u001b[0;31mValueError\u001b[0m: The truth value of an array with more than one element is ambiguous. Use a.any() or a.all()"
     ]
    }
   ],
   "source": [
    "\n",
    "\n",
    "perceptronRP = PerceptronRewardPunish(0.5)\n",
    "perceptronRP.fit(x_train, y_train)\n",
    "\n",
    "sns.scatterplot(x_train[:,0], x_train[:,1])\n",
    "\n",
    "plt.grid()\n",
    "\n",
    "plt.show()\n",
    "\n"
   ]
  },
  {
   "cell_type": "markdown",
   "metadata": {},
   "source": [
    "## Test Set "
   ]
  },
  {
   "cell_type": "code",
   "execution_count": null,
   "metadata": {},
   "outputs": [],
   "source": [
    "df = pd.read_csv('Test.txt', na_values = missing_values, delimiter=r'\\s+', header=None)\n",
    "\n",
    " \n",
    "x_test, y_test = np.array(df.iloc[ :,:-1].values.tolist()), np.array(df.iloc[:,-1].values.tolist() )\n"
   ]
  },
  {
   "cell_type": "code",
   "execution_count": null,
   "metadata": {},
   "outputs": [],
   "source": [
    "# accurary of basic perceptron \n",
    "metrics.accuracy_score(perceptron.predict(x_test), y_test )"
   ]
  },
  {
   "cell_type": "code",
   "execution_count": null,
   "metadata": {},
   "outputs": [],
   "source": [
    "# accurary of perceptron with reward punishment\n",
    "metrics.accuracy_score(perceptronRP.predict(x_test), y_test )"
   ]
  },
  {
   "cell_type": "code",
   "execution_count": null,
   "metadata": {},
   "outputs": [],
   "source": [
    "weight = np.ones((1,5), dtype='int')\n",
    "x = np.ones((5,3), dtype='int')\n",
    "toAdd = np.ones((1,3), dtype='int')\n",
    "for i in range(5):\n",
    "    weight[0][i] = 2"
   ]
  },
  {
   "cell_type": "code",
   "execution_count": null,
   "metadata": {},
   "outputs": [],
   "source": [
    "x.sum()"
   ]
  },
  {
   "cell_type": "code",
   "execution_count": null,
   "metadata": {},
   "outputs": [],
   "source": [
    "weight * x.T"
   ]
  },
  {
   "cell_type": "code",
   "execution_count": null,
   "metadata": {},
   "outputs": [],
   "source": [
    "np.sum(x * weight, axis=0)"
   ]
  },
  {
   "cell_type": "code",
   "execution_count": null,
   "metadata": {},
   "outputs": [],
   "source": [
    "toAdd + x*weight"
   ]
  },
  {
   "cell_type": "code",
   "execution_count": null,
   "metadata": {},
   "outputs": [],
   "source": []
  }
 ],
 "metadata": {
  "kernelspec": {
   "display_name": "Python 3",
   "language": "python",
   "name": "python3"
  },
  "language_info": {
   "codemirror_mode": {
    "name": "ipython",
    "version": 3
   },
   "file_extension": ".py",
   "mimetype": "text/x-python",
   "name": "python",
   "nbconvert_exporter": "python",
   "pygments_lexer": "ipython3",
   "version": "3.7.6"
  }
 },
 "nbformat": 4,
 "nbformat_minor": 4
}
