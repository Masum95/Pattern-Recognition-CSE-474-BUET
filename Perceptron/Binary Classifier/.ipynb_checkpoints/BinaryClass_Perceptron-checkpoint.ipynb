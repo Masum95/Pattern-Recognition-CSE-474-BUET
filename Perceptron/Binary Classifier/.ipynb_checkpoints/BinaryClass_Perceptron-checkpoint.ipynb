{
 "cells": [
  {
   "cell_type": "code",
   "execution_count": 1,
   "metadata": {},
   "outputs": [],
   "source": [
    "#for interactive 3d plot \n",
    "!pip install PrettyTable > /dev/null 2>&1\n",
    "from prettytable import PrettyTable\n",
    "\n",
    "import pandas as pd\n",
    "import numpy as np\n",
    "import sklearn\n",
    "import matplotlib.pyplot as plt\n",
    "import seaborn as sns\n",
    "import pickle\n",
    "from sklearn.utils import shuffle\n",
    "from sklearn.model_selection import train_test_split\n",
    "from mpl_toolkits.mplot3d import Axes3D\n",
    "from sklearn import metrics\n",
    "\n",
    "# import ipyvolume as ipv\n",
    "%matplotlib inline\n"
   ]
  },
  {
   "cell_type": "code",
   "execution_count": 2,
   "metadata": {},
   "outputs": [],
   "source": [
    "# Files\n",
    "linearSeparableTrainFile = 'trainLinearlySeparable.txt'\n",
    "linearSeparableTestFile = 'testLinearlySeparable.txt'\n",
    "linearNonSeparableTrainFile = 'trainLinearlyNonSeparable.txt'\n",
    "linearNonSeparableTestFile = 'testLinearlyNonSeparable.txt'"
   ]
  },
  {
   "cell_type": "markdown",
   "metadata": {},
   "source": [
    " # line, plane draw"
   ]
  },
  {
   "cell_type": "code",
   "execution_count": 3,
   "metadata": {},
   "outputs": [],
   "source": [
    "\n",
    "def drawLine(ara , lim = (-10,10)):\n",
    "    a = ara[0]\n",
    "    b = ara[1]\n",
    "    c = ara[2]\n",
    "    x = np.linspace(lim[0], lim[1])\n",
    "    plt.plot(x,-a/b*x-c/b)\n",
    "\n",
    "\n",
    "\n"
   ]
  },
  {
   "cell_type": "markdown",
   "metadata": {},
   "source": [
    "# Single layer Perceptron for Binary Classification"
   ]
  },
  {
   "cell_type": "code",
   "execution_count": 4,
   "metadata": {},
   "outputs": [],
   "source": [
    "class Perceptron:\n",
    "    \n",
    "    def __init__(self,learning_rate):\n",
    "        self.eta = learning_rate\n",
    "\n",
    "    \n",
    "    def fit(self, x_train, y_train, numEpoch=10000):\n",
    "        # x_train = numSamples X numFeatures\n",
    "        self.x_train = np.hstack( ( np.array(x_train, dtype=float), np.ones([len(y_train), 1], dtype = float) ))\n",
    "        # y_train = numSamples X 1 \n",
    "\n",
    "        self.y_train = np.array(y_train, dtype='O')\n",
    "        self.classes = np.unique(self.y_train)\n",
    "        # weight = numFeatures X 1 \n",
    "        np.random.seed(0)\n",
    "        self.weight = np.random.rand(self.x_train.shape[1], 1)\n",
    "        self.thresh = 0.05\n",
    "        self.numEpoch = numEpoch\n",
    "        self.updateWeight()\n",
    "    \n",
    "      \n",
    "    def __getDelta(self, predList, actualList):\n",
    "        dList = [0] * len(predList)\n",
    "        for i in range(len(predList)):\n",
    "            d = 0   \n",
    "            predicted = predList[i]\n",
    "            if predicted == self.classes[0] and actualList[i] == self.classes[1]:\n",
    "                d = -1\n",
    "            elif predicted == self.classes[1] and actualList[i] == self.classes[0]:\n",
    "                d = 1\n",
    "            dList[i] = d\n",
    "        return np.array(dList)\n",
    "    \n",
    "    def __getActivation(self, x_list):\n",
    "        x_list = np.array(x_list)\n",
    "        if x_list.shape[1] != len(self.weight) : # if called for testing set, have to handle it differently \n",
    "            x_list = np.hstack( ( x_list, np.ones([len(x_list), 1], dtype = float) ) )\n",
    "            \n",
    "        activation = np.dot(x_list, self.weight ) \n",
    "        return activation\n",
    "    \n",
    "    def predict(self, x_test):\n",
    "        activation = self.__getActivation( x_test)\n",
    "        return [self.classes[1] if act >= 0.0 else self.classes[0] for act in activation] \n",
    "    \n",
    "    def getLearningRate(self, epochNo):\n",
    "        decayRate = 1\n",
    "        return 1/ ( 1 + epochNo * decayRate) * self.eta\n",
    "    \n",
    "    def updateWeight(self):\n",
    "        it = 0\n",
    "        bestCost, bestWeight = 1000000, []\n",
    "\n",
    "        while it < self.numEpoch:\n",
    "        \n",
    "            predictedList = self.predict(self.x_train)\n",
    "            deltaList = self.__getDelta(predictedList, self.y_train).reshape((1, len(self.x_train)))\n",
    "            self.weight = self.weight - self.getLearningRate(it) * np.sum( (self.eta * deltaList) * self.x_train.T, axis=1, keepdims=True)\n",
    "            \n",
    "            cost = self.costFunc(self.x_train, self.y_train) \n",
    "            \n",
    "            if self.costFunc(self.x_train, self.y_train) <= self.thresh:\n",
    "                break\n",
    "            it +=1 \n",
    "        print('Number of iterations taken =', it )\n",
    "\n",
    "    def costFunc(self, x_list, y_actual):\n",
    "        cost = 0\n",
    "        activation = self.__getActivation(x_list)  \n",
    "        predictedList = [self.classes[1] if act >= 0.0 else self.classes[0] for act in activation] \n",
    "        \n",
    "        deltaList = self.__getDelta(predictedList, y_actual).reshape(activation.shape)\n",
    "\n",
    "        return np.multiply(activation, deltaList).sum()\n"
   ]
  },
  {
   "cell_type": "code",
   "execution_count": 5,
   "metadata": {},
   "outputs": [],
   "source": [
    "class PerceptronRewardPunish(Perceptron):\n",
    "    \n",
    "    def updateWeight(self):\n",
    "        it = 0\n",
    "\n",
    "        while it < self.numEpoch:\n",
    "            \n",
    "            for i in range(len(self.y_train)):\n",
    "    \n",
    "                x = self.x_train[i,:].reshape((1,self.x_train.shape[1])) \n",
    "                activation = np.dot(x, self.weight).squeeze()\n",
    "\n",
    "                predicted = self.classes[1] if activation >= 0.0 else self.classes[0]\n",
    "        \n",
    "                d = 0   \n",
    "                if predicted == self.classes[0] and self.y_train[i] == self.classes[1]:\n",
    "                    d = -1\n",
    "                elif predicted == self.classes[1] and self.y_train[i] == self.classes[0]:\n",
    "                    d = 1\n",
    "                self.weight = self.weight - self.getLearningRate(it) * d * x.T\n",
    "\n",
    "            it += 1\n",
    "            if self.costFunc(self.x_train, self.y_train) <= self.thresh:\n",
    "                break\n",
    "        print('Number of iterations taken =', it )\n",
    "        "
   ]
  },
  {
   "cell_type": "code",
   "execution_count": 6,
   "metadata": {},
   "outputs": [],
   "source": [
    "class PerceptronPocket(Perceptron):\n",
    "\n",
    "    def updateWeight(self):\n",
    "        it = 0\n",
    "        bestCost, bestWeight = 1000000, []\n",
    "\n",
    "        while it < self.numEpoch:\n",
    "\n",
    "            for i in range(len(self.y_train)):\n",
    "\n",
    "    \n",
    "                x = self.x_train[i,:].reshape((1,self.x_train.shape[1])) \n",
    "                activation = np.dot(x, self.weight).squeeze()\n",
    "\n",
    "                predicted = self.classes[1] if activation >= 0.0 else self.classes[0]\n",
    "        \n",
    "                d = 0   \n",
    "                if predicted == self.classes[0] and self.y_train[i] == self.classes[1]:\n",
    "                    d = -1\n",
    "                elif predicted == self.classes[1] and self.y_train[i] == self.classes[0]:\n",
    "                    d = 1\n",
    "                self.weight = self.weight - self.getLearningRate(it) * d * x.T\n",
    "                cost = self.costFunc(self.x_train, self.y_train)\n",
    "\n",
    "                if cost <= bestCost:\n",
    "                    bestCost, bestWeight = cost, self.weight.copy()\n",
    "\n",
    "\n",
    "            it += 1\n",
    "            if self.costFunc(self.x_train, self.y_train) <= self.thresh:\n",
    "                break\n",
    "        self.weight = bestWeight\n",
    "        print('Number of iterations taken =', it )\n"
   ]
  },
  {
   "cell_type": "markdown",
   "metadata": {},
   "source": [
    "## Data Preprocessing"
   ]
  },
  {
   "cell_type": "code",
   "execution_count": 7,
   "metadata": {},
   "outputs": [],
   "source": [
    "\n",
    "missing_values = [\"n/a\", \"na\", \"--\",\"NA\",\"N/A\",\"?\"]\n",
    "\n",
    "with open(linearSeparableTrainFile) as f:\n",
    "\n",
    "    numFeature, numClass, datasetLen = f.readline().split()\n",
    "    \n",
    "df = pd.read_csv( linearSeparableTrainFile, na_values = missing_values, skiprows=1, delimiter=r'\\s+', header=None)\n",
    "\n",
    "\n",
    "x_train, y_train = np.array(df.iloc[:,:-1].values.tolist()), np.array(df.iloc[:,-1].values.tolist() )\n"
   ]
  },
  {
   "cell_type": "markdown",
   "metadata": {},
   "source": [
    "## Train Basic Percpetron Model"
   ]
  },
  {
   "cell_type": "code",
   "execution_count": 8,
   "metadata": {
    "scrolled": true
   },
   "outputs": [
    {
     "name": "stdout",
     "output_type": "stream",
     "text": [
      "Number of iterations taken = 27\n"
     ]
    },
    {
     "data": {
      "image/png": "[encoded data removed]",
      "text/plain": [
       "<Figure size 432x288 with 1 Axes>"
      ]
     },
     "metadata": {
      "needs_background": "light"
     },
     "output_type": "display_data"
    }
   ],
   "source": [
    "\n",
    "\n",
    "perceptron = Perceptron(0.2)\n",
    "perceptron.fit(x_train, y_train)\n",
    "\n",
    "sns.scatterplot(x_train[:,0], x_train[:,1])\n",
    "\n",
    "plt.grid()\n",
    "\n",
    "plt.show()\n",
    "\n"
   ]
  },
  {
   "cell_type": "markdown",
   "metadata": {},
   "source": [
    "## Train Reward & Punishment Percpetron Model"
   ]
  },
  {
   "cell_type": "code",
   "execution_count": 9,
   "metadata": {},
   "outputs": [
    {
     "name": "stdout",
     "output_type": "stream",
     "text": [
      "Number of iterations taken = 1\n"
     ]
    },
    {
     "data": {
      "image/png": "[encoded data removed]",
      "text/plain": [
       "<Figure size 432x288 with 1 Axes>"
      ]
     },
     "metadata": {
      "needs_background": "light"
     },
     "output_type": "display_data"
    }
   ],
   "source": [
    "\n",
    "\n",
    "perceptronRP = PerceptronRewardPunish(0.2)\n",
    "perceptronRP.fit(x_train, y_train)\n",
    "\n",
    "sns.scatterplot(x_train[:,0], x_train[:,1])\n",
    "\n",
    "plt.grid()\n",
    "\n",
    "plt.show()\n",
    "\n"
   ]
  },
  {
   "cell_type": "markdown",
   "metadata": {},
   "source": [
    "## Test Set "
   ]
  },
  {
   "cell_type": "code",
   "execution_count": 10,
   "metadata": {},
   "outputs": [],
   "source": [
    "df = pd.read_csv( linearSeparableTestFile, na_values = missing_values, delimiter=r'\\s+', header=None)\n",
    " \n",
    "x_test, y_test = np.array(df.iloc[ :,:-1].values.tolist()), np.array(df.iloc[:,-1].values.tolist() )\n",
    "\n"
   ]
  },
  {
   "cell_type": "code",
   "execution_count": 11,
   "metadata": {},
   "outputs": [
    {
     "name": "stdout",
     "output_type": "stream",
     "text": [
      "------------------------Basic Perceptron----------------------------------\n",
      "List of mis-classified samples\n",
      "+------------+----------------+--------------+-----------------+\n",
      "| sample no. | feature values | actual class | predicted class |\n",
      "+------------+----------------+--------------+-----------------+\n",
      "+------------+----------------+--------------+-----------------+\n",
      "Accurary for Basic Perceptron Algorithm (In test set)\n",
      "100.0 %\n"
     ]
    }
   ],
   "source": [
    "# accurary of basic perceptron \n",
    "predList = perceptron.predict(x_test)\n",
    "print('------------------------Basic Perceptron----------------------------------')\n",
    "print('List of mis-classified samples')\n",
    "t = PrettyTable(['sample no.', 'feature values', 'actual class', 'predicted class'])\n",
    "\n",
    "for i in range(len(predList)):\n",
    "    y_pred = predList[i]\n",
    "    if y_pred != y_test[i]:\n",
    "        t.add_row([i, x_test[i,:],  y_test[i], y_pred])\n",
    "print(t)\n",
    "print('Accurary for Basic Perceptron Algorithm (In test set)')\n",
    "print(metrics.accuracy_score(predList, y_test )*100, '%')"
   ]
  },
  {
   "cell_type": "code",
   "execution_count": 12,
   "metadata": {},
   "outputs": [
    {
     "name": "stdout",
     "output_type": "stream",
     "text": [
      "------------------------Basic Perceptron with reward & punishment----------------------------------\n",
      "List of mis-classified samples\n",
      "+------------+----------------+--------------+-----------------+\n",
      "| sample no. | feature values | actual class | predicted class |\n",
      "+------------+----------------+--------------+-----------------+\n",
      "+------------+----------------+--------------+-----------------+\n",
      "Accurary for Perceptron Algorithm with reward & punishment (In test set) \n",
      "100.0 %\n"
     ]
    }
   ],
   "source": [
    "# accurary of perceptron with reward punishment\n",
    "\n",
    "predList = perceptronRP.predict(x_test)\n",
    "print('------------------------Basic Perceptron with reward & punishment----------------------------------')\n",
    "print('List of mis-classified samples')\n",
    "t = PrettyTable(['sample no.', 'feature values', 'actual class', 'predicted class'])\n",
    "\n",
    "for i in range(len(predList)):\n",
    "    y_pred = predList[i]\n",
    "    if y_pred != y_test[i]:\n",
    "        t.add_row([i, x_test[i,:],  y_test[i], y_pred])\n",
    "print(t)\n",
    "print('Accurary for Perceptron Algorithm with reward & punishment (In test set) ')\n",
    "\n",
    "print(metrics.accuracy_score(predList, y_test )*100, '%')"
   ]
  },
  {
   "cell_type": "markdown",
   "metadata": {},
   "source": [
    "## Linearly Non Separable Dataset ( for Pocekt Algorithm ) "
   ]
  },
  {
   "cell_type": "code",
   "execution_count": 13,
   "metadata": {},
   "outputs": [],
   "source": [
    "\n",
    "missing_values = [\"n/a\", \"na\", \"--\",\"NA\",\"N/A\",\"?\"]\n",
    "\n",
    "with open(linearNonSeparableTrainFile) as f:\n",
    "\n",
    "    numFeature, numClass, datasetLen = f.readline().split()\n",
    "    \n",
    "df = pd.read_csv( linearSeparableTrainFile, na_values = missing_values, skiprows=1, delimiter=r'\\s+', header=None)\n",
    "\n",
    "\n",
    "x_train, y_train = np.array(df.iloc[:,:-1].values.tolist()), np.array(df.iloc[:,-1].values.tolist() )\n"
   ]
  },
  {
   "cell_type": "code",
   "execution_count": 14,
   "metadata": {},
   "outputs": [
    {
     "name": "stdout",
     "output_type": "stream",
     "text": [
      "Number of iterations taken = 1\n"
     ]
    },
    {
     "data": {
      "image/png": "[encoded data removed]",
      "text/plain": [
       "<Figure size 432x288 with 1 Axes>"
      ]
     },
     "metadata": {
      "needs_background": "light"
     },
     "output_type": "display_data"
    }
   ],
   "source": [
    "## Train \n",
    "\n",
    "perceptron = PerceptronPocket(0.2)\n",
    "perceptron.fit(x_train, y_train)\n",
    "\n",
    "sns.scatterplot(x_train[:,0], x_train[:,1])\n",
    "\n",
    "plt.grid()\n",
    "\n",
    "plt.show()"
   ]
  },
  {
   "cell_type": "code",
   "execution_count": 15,
   "metadata": {},
   "outputs": [
    {
     "name": "stdout",
     "output_type": "stream",
     "text": [
      "------------------------Pocket Algorithm----------------------------------\n",
      "List of mis-classified samples\n",
      "+------------+---------------------------------------------------+--------------+-----------------+\n",
      "| sample no. |                   feature values                  | actual class | predicted class |\n",
      "+------------+---------------------------------------------------+--------------+-----------------+\n",
      "|    170     |   [1.60866581 3.86437026 5.29833973 8.01541067]   |      2       |        1        |\n",
      "|    171     |   [2.03037464 4.63482989 6.94098711 8.53590213]   |      2       |        1        |\n",
      "|    172     | [ 3.99237585  8.08090113 12.34340583 16.05956163] |      1       |        2        |\n",
      "|    173     | [ 4.15975357  7.65456696 11.77586291 16.58566104] |      1       |        2        |\n",
      "|    174     |   [2.14033335 3.66825436 6.18842916 8.16284464]   |      2       |        1        |\n",
      "|    175     | [ 4.3124503   8.08462318 11.48604125 15.18687984] |      1       |        2        |\n",
      "|    176     | [ 4.57722904  8.04661657 11.29743912 15.80765912] |      1       |        2        |\n",
      "|    177     | [ 3.3351582   8.35192192 12.63921605 15.63565217] |      1       |        2        |\n",
      "|    178     |   [2.06832699 4.64714954 6.33482759 8.0155349 ]   |      2       |        1        |\n",
      "+------------+---------------------------------------------------+--------------+-----------------+\n",
      "Accurary for Pocket Algorithm (In test set) \n",
      "97.75 %\n"
     ]
    }
   ],
   "source": [
    "## Test \n",
    "\n",
    "\n",
    "df = pd.read_csv( linearNonSeparableTestFile, na_values = missing_values, delimiter=r'\\s+', header=None)\n",
    " \n",
    "x_test, y_test = np.array(df.iloc[ :,:-1].values.tolist()), np.array(df.iloc[:,-1].values.tolist() )\n",
    "# accurary of  perceptron with pocket algorithm\n",
    "\n",
    "\n",
    "predList = perceptron.predict(x_test)\n",
    "print('------------------------Pocket Algorithm----------------------------------')\n",
    "print('List of mis-classified samples')\n",
    "t = PrettyTable(['sample no.', 'feature values', 'actual class', 'predicted class'])\n",
    "\n",
    "for i in range(len(predList)):\n",
    "    y_pred = predList[i]\n",
    "    if y_pred != y_test[i]:\n",
    "        t.add_row([i, x_test[i,:],  y_test[i], y_pred])\n",
    "print(t)\n",
    "print('Accurary for Pocket Algorithm (In test set) ')\n",
    "\n",
    "print(metrics.accuracy_score(predList, y_test )*100, '%')\n"
   ]
  },
  {
   "cell_type": "code",
   "execution_count": null,
   "metadata": {},
   "outputs": [],
   "source": []
  }
 ],
 "metadata": {
  "kernelspec": {
   "display_name": "Python 3",
   "language": "python",
   "name": "python3"
  },
  "language_info": {
   "codemirror_mode": {
    "name": "ipython",
    "version": 3
   },
   "file_extension": ".py",
   "mimetype": "text/x-python",
   "name": "python",
   "nbconvert_exporter": "python",
   "pygments_lexer": "ipython3",
   "version": "3.7.6"
  }
 },
 "nbformat": 4,
 "nbformat_minor": 4
}
